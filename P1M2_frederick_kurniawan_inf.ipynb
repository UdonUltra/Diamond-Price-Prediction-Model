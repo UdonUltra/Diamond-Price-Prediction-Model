{
 "cells": [
  {
   "cell_type": "markdown",
   "metadata": {},
   "source": [
    "# **Milestone 2**\n",
    "---"
   ]
  },
  {
   "cell_type": "markdown",
   "metadata": {},
   "source": [
    "# **1. Introduction**"
   ]
  },
  {
   "cell_type": "markdown",
   "metadata": {},
   "source": [
    "Name  : Frederick Kurniawan Putra\n",
    "\n",
    "Batch : HCK-016  \n",
    "\n",
    "**Objective**  \n",
    "The Goal of this project is to create machine learning model to predict diamond price based on its 4C (Cut, Color, Clarity, and Carat) and any other description. We will test several models such as KNN, SVM, Decision Tree, Random Forest, and xgboost. After we evaluate models, we will tune hyperparameter to improve our models. After that, we will test our model to see evaluate our final models performance, and we are going to deploy the model to website."
   ]
  },
  {
   "cell_type": "markdown",
   "metadata": {},
   "source": [
    "# **ii. Model Inference**"
   ]
  },
  {
   "cell_type": "code",
   "execution_count": 1,
   "metadata": {},
   "outputs": [],
   "source": [
    "#for data manipulation\n",
    "import pandas as pd\n",
    "import numpy as np\n",
    "\n",
    "import pickle\n",
    "import json"
   ]
  },
  {
   "cell_type": "code",
   "execution_count": 2,
   "metadata": {},
   "outputs": [],
   "source": [
    "# Load model and other files\n",
    "\n",
    "\n",
    "with open(\"model.pkl\", \"rb\") as file_3:\n",
    "  model = pickle.load(file_3)\n"
   ]
  },
  {
   "cell_type": "code",
   "execution_count": 3,
   "metadata": {},
   "outputs": [
    {
     "name": "stdout",
     "output_type": "stream",
     "text": [
      "   carat        cut color clarity  depth  table  price     x     y     z\n",
      "0   0.71    Premium     E     VS2   59.8   57.0   1000  4.34  3.96  2.47\n",
      "1   0.72  Very Good     H     VS1   62.7   60.0    400  4.07  3.78  2.39\n",
      "2   0.26       Fair     D    VVS1   62.2   65.0    500  5.75  5.75  3.56\n"
     ]
    }
   ],
   "source": [
    "# Assuming data_dummy is your dictionary\n",
    "data_dummy = {\n",
    "    'carat': [\n",
    "        0.71, 0.72,\n",
    "        0.26\n",
    "    ],\n",
    "    'cut': [\n",
    "        'Premium', 'Very Good', 'Fair'\n",
    "    ],\n",
    "    'color': [\n",
    "        'E', 'H', 'D'\n",
    "    ],\n",
    "    'clarity': [\n",
    "        'VS2', 'VS1', 'VVS1'\n",
    "    ],\n",
    "    'depth': [\n",
    "        59.8, 62.7, 62.2\n",
    "    ],\n",
    "    'table': [\n",
    "        57.0, 60.0, 65.0\n",
    "    ],\n",
    "    'price': [\n",
    "        1000, 400, 500\n",
    "    ],\n",
    "    'x': [\n",
    "        4.34, 4.07, 5.75\n",
    "    ],\n",
    "    'y': [\n",
    "        3.96, 3.78, 5.75\n",
    "    ],\n",
    "    'z': [\n",
    "        2.47, 2.39, 3.56\n",
    "    ]\n",
    "}\n",
    "\n",
    "# Create DataFrame\n",
    "df_data_dummy = pd.DataFrame(data_dummy)\n",
    "\n",
    "# Display DataFrame\n",
    "print(df_data_dummy.head())"
   ]
  },
  {
   "cell_type": "code",
   "execution_count": 6,
   "metadata": {},
   "outputs": [
    {
     "name": "stdout",
     "output_type": "stream",
     "text": [
      "Predicted Price: 1593.75 USD\n"
     ]
    }
   ],
   "source": [
    "# Predict the score\n",
    "\n",
    "predicted_score = model.predict(df_data_dummy)\n",
    "\n",
    "# Show result\n",
    "print(f\"Predicted Price: {predicted_score[1]:.2f} USD\")"
   ]
  }
 ],
 "metadata": {
  "kernelspec": {
   "display_name": "base",
   "language": "python",
   "name": "python3"
  },
  "language_info": {
   "codemirror_mode": {
    "name": "ipython",
    "version": 3
   },
   "file_extension": ".py",
   "mimetype": "text/x-python",
   "name": "python",
   "nbconvert_exporter": "python",
   "pygments_lexer": "ipython3",
   "version": "3.11.7"
  }
 },
 "nbformat": 4,
 "nbformat_minor": 2
}
